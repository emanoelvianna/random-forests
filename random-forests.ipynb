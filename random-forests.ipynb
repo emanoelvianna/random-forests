{
 "cells": [
  {
   "cell_type": "markdown",
   "metadata": {},
   "source": [
    "### Aprendizado Ensemble - Florestas Aleatórias"
   ]
  },
  {
   "cell_type": "markdown",
   "metadata": {},
   "source": [
    "1. Desenvolvimento do algoritmo de indução de uma árvore de decisão, usando como critério de seleção de atributos para divisão de nós o **Ganho de Informação (baseado no conceito de entropia)**. **Tratando tanto atributos categóricos quanto numéricos.**"
   ]
  },
  {
   "cell_type": "code",
   "execution_count": 15,
   "metadata": {},
   "outputs": [],
   "source": [
    "# Qual o número de árvores que será considerado (hiperparâmetros)?\n",
    "\n",
    "class Node:\n",
    "    atributo = None\n",
    "    ganho = None\n",
    "    folha = None\n",
    "    valor = None\n",
    "    \n",
    "    def __init__():\n",
    "        atributo = \"não definido\"\n",
    "        ganho = 0\n",
    "\n",
    "    def isFolha():\n",
    "        return False\n",
    "\n",
    "class Record:\n",
    "    id = None\n",
    "    \n",
    "class DecisionTree:\n",
    "    raiz = None\n",
    "    def construir():\n",
    "        raiz = Node()\n",
    "    \n",
    "    def getClassificacao(registro):\n",
    "        if(raiz == None):\n",
    "            return\n",
    "        else:\n",
    "            no = raiz\n",
    "            while no.isFolha() == False:\n",
    "                valor = registro.getValor(no.getAtributo());\n",
    "                no = no.getProximoNode(valor);\n",
    "        return no.getValor();\n"
   ]
  },
  {
   "cell_type": "markdown",
   "metadata": {},
   "source": [
    "### Referências\n",
    "\n",
    "1. [Aprendendo em uma Floresta Aleatória](https://medium.com/machina-sapiens/o-algoritmo-da-floresta-aleat%C3%B3ria-3545f6babdf8)\n",
    "2. [Otimizando os hiperparâmetros](https://medium.com/data-hackers/otimizando-os-hiperpar%C3%A2metros-621de5e9be37)\n",
    "3. [Classificadores Ensemble](https://lamfo-unb.github.io/2017/09/27/BaggingVsBoosting/)\n",
    "4. [Bootstrap](https://lamfo-unb.github.io/2017/06/28/Bootstrap/)"
   ]
  }
 ],
 "metadata": {
  "kernelspec": {
   "display_name": "Python 3",
   "language": "python",
   "name": "python3"
  },
  "language_info": {
   "codemirror_mode": {
    "name": "ipython",
    "version": 3
   },
   "file_extension": ".py",
   "mimetype": "text/x-python",
   "name": "python",
   "nbconvert_exporter": "python",
   "pygments_lexer": "ipython3",
   "version": "3.8.2"
  }
 },
 "nbformat": 4,
 "nbformat_minor": 4
}
