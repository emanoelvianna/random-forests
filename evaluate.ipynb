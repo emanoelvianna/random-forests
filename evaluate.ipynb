{
 "metadata": {
  "language_info": {
   "codemirror_mode": {
    "name": "ipython",
    "version": 3
   },
   "file_extension": ".py",
   "mimetype": "text/x-python",
   "name": "python",
   "nbconvert_exporter": "python",
   "pygments_lexer": "ipython3",
   "version": "3.8.6-final"
  },
  "orig_nbformat": 2,
  "kernelspec": {
   "name": "Python 3.8.6 64-bit",
   "display_name": "Python 3.8.6 64-bit",
   "metadata": {
    "interpreter": {
     "hash": "9178afb9b3daeee402732af4e4aef10a7593df5184141cef26a75ebe4e69e442"
    }
   }
  }
 },
 "nbformat": 4,
 "nbformat_minor": 2,
 "cells": [
  {
   "cell_type": "code",
   "execution_count": 2,
   "metadata": {},
   "outputs": [
    {
     "output_type": "stream",
     "name": "stdout",
     "text": [
      "Banco com 14 amostras e 5 colunas\n\nTabela sumarizando as colunas do banco\n\n"
     ]
    },
    {
     "output_type": "execute_result",
     "data": {
      "text/plain": [
       "         Tempo Temperatura Umidade     Ventoso Joga\n",
       "0   Ensolarado      Quente    Alta       Falso  Nao\n",
       "1   Ensolarado      Quente    Alta  Verdadeiro  Nao\n",
       "2      Nublado      Quente    Alta       Falso  Sim\n",
       "3      Chuvoso       Amena    Alta       Falso  Sim\n",
       "4      Chuvoso        Fria  Normal       Falso  Sim\n",
       "5      Chuvoso        Fria  Normal  Verdadeiro  Nao\n",
       "6      Nublado        Fria  Normal  Verdadeiro  Sim\n",
       "7   Ensolarado       Amena    Alta       Falso  Nao\n",
       "8   Ensolarado        Fria  Normal       Falso  Sim\n",
       "9      Chuvoso       Amena  Normal       Falso  Sim\n",
       "10  Ensolarado       Amena  Normal  Verdadeiro  Sim\n",
       "11     Nublado       Amena    Alta  Verdadeiro  Sim\n",
       "12     Nublado      Quente  Normal       Falso  Sim\n",
       "13     Chuvoso       Amena    Alta  Verdadeiro  Nao"
      ],
      "text/html": "<div>\n<style scoped>\n    .dataframe tbody tr th:only-of-type {\n        vertical-align: middle;\n    }\n\n    .dataframe tbody tr th {\n        vertical-align: top;\n    }\n\n    .dataframe thead th {\n        text-align: right;\n    }\n</style>\n<table border=\"1\" class=\"dataframe\">\n  <thead>\n    <tr style=\"text-align: right;\">\n      <th></th>\n      <th>Tempo</th>\n      <th>Temperatura</th>\n      <th>Umidade</th>\n      <th>Ventoso</th>\n      <th>Joga</th>\n    </tr>\n  </thead>\n  <tbody>\n    <tr>\n      <th>0</th>\n      <td>Ensolarado</td>\n      <td>Quente</td>\n      <td>Alta</td>\n      <td>Falso</td>\n      <td>Nao</td>\n    </tr>\n    <tr>\n      <th>1</th>\n      <td>Ensolarado</td>\n      <td>Quente</td>\n      <td>Alta</td>\n      <td>Verdadeiro</td>\n      <td>Nao</td>\n    </tr>\n    <tr>\n      <th>2</th>\n      <td>Nublado</td>\n      <td>Quente</td>\n      <td>Alta</td>\n      <td>Falso</td>\n      <td>Sim</td>\n    </tr>\n    <tr>\n      <th>3</th>\n      <td>Chuvoso</td>\n      <td>Amena</td>\n      <td>Alta</td>\n      <td>Falso</td>\n      <td>Sim</td>\n    </tr>\n    <tr>\n      <th>4</th>\n      <td>Chuvoso</td>\n      <td>Fria</td>\n      <td>Normal</td>\n      <td>Falso</td>\n      <td>Sim</td>\n    </tr>\n    <tr>\n      <th>5</th>\n      <td>Chuvoso</td>\n      <td>Fria</td>\n      <td>Normal</td>\n      <td>Verdadeiro</td>\n      <td>Nao</td>\n    </tr>\n    <tr>\n      <th>6</th>\n      <td>Nublado</td>\n      <td>Fria</td>\n      <td>Normal</td>\n      <td>Verdadeiro</td>\n      <td>Sim</td>\n    </tr>\n    <tr>\n      <th>7</th>\n      <td>Ensolarado</td>\n      <td>Amena</td>\n      <td>Alta</td>\n      <td>Falso</td>\n      <td>Nao</td>\n    </tr>\n    <tr>\n      <th>8</th>\n      <td>Ensolarado</td>\n      <td>Fria</td>\n      <td>Normal</td>\n      <td>Falso</td>\n      <td>Sim</td>\n    </tr>\n    <tr>\n      <th>9</th>\n      <td>Chuvoso</td>\n      <td>Amena</td>\n      <td>Normal</td>\n      <td>Falso</td>\n      <td>Sim</td>\n    </tr>\n    <tr>\n      <th>10</th>\n      <td>Ensolarado</td>\n      <td>Amena</td>\n      <td>Normal</td>\n      <td>Verdadeiro</td>\n      <td>Sim</td>\n    </tr>\n    <tr>\n      <th>11</th>\n      <td>Nublado</td>\n      <td>Amena</td>\n      <td>Alta</td>\n      <td>Verdadeiro</td>\n      <td>Sim</td>\n    </tr>\n    <tr>\n      <th>12</th>\n      <td>Nublado</td>\n      <td>Quente</td>\n      <td>Normal</td>\n      <td>Falso</td>\n      <td>Sim</td>\n    </tr>\n    <tr>\n      <th>13</th>\n      <td>Chuvoso</td>\n      <td>Amena</td>\n      <td>Alta</td>\n      <td>Verdadeiro</td>\n      <td>Nao</td>\n    </tr>\n  </tbody>\n</table>\n</div>"
     },
     "metadata": {},
     "execution_count": 2
    }
   ],
   "source": [
    "import pandas as pd\n",
    "import numpy as np\n",
    "import random\n",
    "import warnings\n",
    "warnings.filterwarnings('ignore')\n",
    "\n",
    "from __future__ import print_function\n",
    "\n",
    "dataset = pd.read_csv(\"C:/Users/renan/Desktop/UFRGS/Machine Learning/Trabalho1/random-forests-1/datasets/benchmark.csv\") \n",
    "\n",
    "dir(dataset)\n",
    "\n",
    "print ('Banco com %d amostras e %d colunas\\n' % dataset.shape)\n",
    "\n",
    "print ('Tabela sumarizando as colunas do banco\\n')\n",
    "dataset"
   ]
  },
  {
   "cell_type": "code",
   "execution_count": 3,
   "metadata": {},
   "outputs": [
    {
     "output_type": "execute_result",
     "data": {
      "text/plain": [
       "         Tempo Temperatura Umidade     Ventoso Joga\n",
       "5      Chuvoso        Fria  Normal  Verdadeiro  Nao\n",
       "1   Ensolarado      Quente    Alta  Verdadeiro  Nao\n",
       "11     Nublado       Amena    Alta  Verdadeiro  Sim\n",
       "12     Nublado      Quente  Normal       Falso  Sim\n",
       "6      Nublado        Fria  Normal  Verdadeiro  Sim\n",
       "12     Nublado      Quente  Normal       Falso  Sim\n",
       "4      Chuvoso        Fria  Normal       Falso  Sim\n",
       "11     Nublado       Amena    Alta  Verdadeiro  Sim\n",
       "1   Ensolarado      Quente    Alta  Verdadeiro  Nao\n",
       "2      Nublado      Quente    Alta       Falso  Sim\n",
       "8   Ensolarado        Fria  Normal       Falso  Sim\n",
       "5      Chuvoso        Fria  Normal  Verdadeiro  Nao\n",
       "1   Ensolarado      Quente    Alta  Verdadeiro  Nao\n",
       "9      Chuvoso       Amena  Normal       Falso  Sim"
      ],
      "text/html": "<div>\n<style scoped>\n    .dataframe tbody tr th:only-of-type {\n        vertical-align: middle;\n    }\n\n    .dataframe tbody tr th {\n        vertical-align: top;\n    }\n\n    .dataframe thead th {\n        text-align: right;\n    }\n</style>\n<table border=\"1\" class=\"dataframe\">\n  <thead>\n    <tr style=\"text-align: right;\">\n      <th></th>\n      <th>Tempo</th>\n      <th>Temperatura</th>\n      <th>Umidade</th>\n      <th>Ventoso</th>\n      <th>Joga</th>\n    </tr>\n  </thead>\n  <tbody>\n    <tr>\n      <th>5</th>\n      <td>Chuvoso</td>\n      <td>Fria</td>\n      <td>Normal</td>\n      <td>Verdadeiro</td>\n      <td>Nao</td>\n    </tr>\n    <tr>\n      <th>1</th>\n      <td>Ensolarado</td>\n      <td>Quente</td>\n      <td>Alta</td>\n      <td>Verdadeiro</td>\n      <td>Nao</td>\n    </tr>\n    <tr>\n      <th>11</th>\n      <td>Nublado</td>\n      <td>Amena</td>\n      <td>Alta</td>\n      <td>Verdadeiro</td>\n      <td>Sim</td>\n    </tr>\n    <tr>\n      <th>12</th>\n      <td>Nublado</td>\n      <td>Quente</td>\n      <td>Normal</td>\n      <td>Falso</td>\n      <td>Sim</td>\n    </tr>\n    <tr>\n      <th>6</th>\n      <td>Nublado</td>\n      <td>Fria</td>\n      <td>Normal</td>\n      <td>Verdadeiro</td>\n      <td>Sim</td>\n    </tr>\n    <tr>\n      <th>12</th>\n      <td>Nublado</td>\n      <td>Quente</td>\n      <td>Normal</td>\n      <td>Falso</td>\n      <td>Sim</td>\n    </tr>\n    <tr>\n      <th>4</th>\n      <td>Chuvoso</td>\n      <td>Fria</td>\n      <td>Normal</td>\n      <td>Falso</td>\n      <td>Sim</td>\n    </tr>\n    <tr>\n      <th>11</th>\n      <td>Nublado</td>\n      <td>Amena</td>\n      <td>Alta</td>\n      <td>Verdadeiro</td>\n      <td>Sim</td>\n    </tr>\n    <tr>\n      <th>1</th>\n      <td>Ensolarado</td>\n      <td>Quente</td>\n      <td>Alta</td>\n      <td>Verdadeiro</td>\n      <td>Nao</td>\n    </tr>\n    <tr>\n      <th>2</th>\n      <td>Nublado</td>\n      <td>Quente</td>\n      <td>Alta</td>\n      <td>Falso</td>\n      <td>Sim</td>\n    </tr>\n    <tr>\n      <th>8</th>\n      <td>Ensolarado</td>\n      <td>Fria</td>\n      <td>Normal</td>\n      <td>Falso</td>\n      <td>Sim</td>\n    </tr>\n    <tr>\n      <th>5</th>\n      <td>Chuvoso</td>\n      <td>Fria</td>\n      <td>Normal</td>\n      <td>Verdadeiro</td>\n      <td>Nao</td>\n    </tr>\n    <tr>\n      <th>1</th>\n      <td>Ensolarado</td>\n      <td>Quente</td>\n      <td>Alta</td>\n      <td>Verdadeiro</td>\n      <td>Nao</td>\n    </tr>\n    <tr>\n      <th>9</th>\n      <td>Chuvoso</td>\n      <td>Amena</td>\n      <td>Normal</td>\n      <td>Falso</td>\n      <td>Sim</td>\n    </tr>\n  </tbody>\n</table>\n</div>"
     },
     "metadata": {},
     "execution_count": 3
    }
   ],
   "source": [
    "def bootstrap(dataset):\n",
    "\n",
    "    \"\"\"\n",
    "    O comando sample da biblioteca pandas retorna uma amostra aleatória de itens.\n",
    "    Recebe como parâmetro o dataset.\n",
    "    'n' setado para manter o tamanho do dataset.\n",
    "    'replace' habilitado para gerar uma amostra com reposição.\n",
    "    \"\"\"\n",
    "    \n",
    "    bootstrap = dataset.sample(n = len(dataset), replace = True)\n",
    "    return bootstrap\n",
    "\n",
    "teste1 = bootstrap(dataset)\n",
    "teste1"
   ]
  },
  {
   "cell_type": "code",
   "execution_count": 4,
   "metadata": {},
   "outputs": [
    {
     "output_type": "error",
     "ename": "KeyError",
     "evalue": "\"None of [Int64Index([8, 4, 9, 3, 5, 1, 12, 13, 9, 9, 13, 6, 13, 4], dtype='int64')] are in the [columns]\"",
     "traceback": [
      "\u001b[1;31m---------------------------------------------------------------------------\u001b[0m",
      "\u001b[1;31mKeyError\u001b[0m                                  Traceback (most recent call last)",
      "\u001b[1;32m<ipython-input-4-9f2c02c45b49>\u001b[0m in \u001b[0;36m<module>\u001b[1;34m\u001b[0m\n\u001b[0;32m     18\u001b[0m     \u001b[1;32mreturn\u001b[0m \u001b[0mdataset_resample\u001b[0m\u001b[1;33m\u001b[0m\u001b[1;33m\u001b[0m\u001b[0m\n\u001b[0;32m     19\u001b[0m \u001b[1;33m\u001b[0m\u001b[0m\n\u001b[1;32m---> 20\u001b[1;33m \u001b[0mteste3\u001b[0m \u001b[1;33m=\u001b[0m \u001b[0mbootstrap_resample\u001b[0m\u001b[1;33m(\u001b[0m\u001b[0mdataset\u001b[0m\u001b[1;33m)\u001b[0m\u001b[1;33m\u001b[0m\u001b[1;33m\u001b[0m\u001b[0m\n\u001b[0m\u001b[0;32m     21\u001b[0m \u001b[0mteste3\u001b[0m\u001b[1;33m.\u001b[0m\u001b[0mdescribe\u001b[0m\u001b[1;33m(\u001b[0m\u001b[1;33m)\u001b[0m\u001b[1;33m\u001b[0m\u001b[1;33m\u001b[0m\u001b[0m\n",
      "\u001b[1;32m<ipython-input-4-9f2c02c45b49>\u001b[0m in \u001b[0;36mbootstrap_resample\u001b[1;34m(dataset)\u001b[0m\n\u001b[0;32m     15\u001b[0m \u001b[1;33m\u001b[0m\u001b[0m\n\u001b[0;32m     16\u001b[0m     \u001b[0mresample_i\u001b[0m \u001b[1;33m=\u001b[0m \u001b[0mnp\u001b[0m\u001b[1;33m.\u001b[0m\u001b[0mfloor\u001b[0m\u001b[1;33m(\u001b[0m\u001b[0mnp\u001b[0m\u001b[1;33m.\u001b[0m\u001b[0mrandom\u001b[0m\u001b[1;33m.\u001b[0m\u001b[0mrand\u001b[0m\u001b[1;33m(\u001b[0m\u001b[0mn\u001b[0m\u001b[1;33m)\u001b[0m\u001b[1;33m*\u001b[0m\u001b[0mlen\u001b[0m\u001b[1;33m(\u001b[0m\u001b[0mdataset\u001b[0m\u001b[1;33m)\u001b[0m\u001b[1;33m)\u001b[0m\u001b[1;33m.\u001b[0m\u001b[0mastype\u001b[0m\u001b[1;33m(\u001b[0m\u001b[0mint\u001b[0m\u001b[1;33m)\u001b[0m\u001b[1;33m\u001b[0m\u001b[1;33m\u001b[0m\u001b[0m\n\u001b[1;32m---> 17\u001b[1;33m     \u001b[0mdataset_resample\u001b[0m \u001b[1;33m=\u001b[0m \u001b[0mdataset\u001b[0m\u001b[1;33m[\u001b[0m\u001b[0mresample_i\u001b[0m\u001b[1;33m]\u001b[0m\u001b[1;33m\u001b[0m\u001b[1;33m\u001b[0m\u001b[0m\n\u001b[0m\u001b[0;32m     18\u001b[0m     \u001b[1;32mreturn\u001b[0m \u001b[0mdataset_resample\u001b[0m\u001b[1;33m\u001b[0m\u001b[1;33m\u001b[0m\u001b[0m\n\u001b[0;32m     19\u001b[0m \u001b[1;33m\u001b[0m\u001b[0m\n",
      "\u001b[1;32m~\\AppData\\Local\\Packages\\PythonSoftwareFoundation.Python.3.8_qbz5n2kfra8p0\\LocalCache\\local-packages\\Python38\\site-packages\\pandas\\core\\frame.py\u001b[0m in \u001b[0;36m__getitem__\u001b[1;34m(self, key)\u001b[0m\n\u001b[0;32m   2906\u001b[0m             \u001b[1;32mif\u001b[0m \u001b[0mis_iterator\u001b[0m\u001b[1;33m(\u001b[0m\u001b[0mkey\u001b[0m\u001b[1;33m)\u001b[0m\u001b[1;33m:\u001b[0m\u001b[1;33m\u001b[0m\u001b[1;33m\u001b[0m\u001b[0m\n\u001b[0;32m   2907\u001b[0m                 \u001b[0mkey\u001b[0m \u001b[1;33m=\u001b[0m \u001b[0mlist\u001b[0m\u001b[1;33m(\u001b[0m\u001b[0mkey\u001b[0m\u001b[1;33m)\u001b[0m\u001b[1;33m\u001b[0m\u001b[1;33m\u001b[0m\u001b[0m\n\u001b[1;32m-> 2908\u001b[1;33m             \u001b[0mindexer\u001b[0m \u001b[1;33m=\u001b[0m \u001b[0mself\u001b[0m\u001b[1;33m.\u001b[0m\u001b[0mloc\u001b[0m\u001b[1;33m.\u001b[0m\u001b[0m_get_listlike_indexer\u001b[0m\u001b[1;33m(\u001b[0m\u001b[0mkey\u001b[0m\u001b[1;33m,\u001b[0m \u001b[0maxis\u001b[0m\u001b[1;33m=\u001b[0m\u001b[1;36m1\u001b[0m\u001b[1;33m,\u001b[0m \u001b[0mraise_missing\u001b[0m\u001b[1;33m=\u001b[0m\u001b[1;32mTrue\u001b[0m\u001b[1;33m)\u001b[0m\u001b[1;33m[\u001b[0m\u001b[1;36m1\u001b[0m\u001b[1;33m]\u001b[0m\u001b[1;33m\u001b[0m\u001b[1;33m\u001b[0m\u001b[0m\n\u001b[0m\u001b[0;32m   2909\u001b[0m \u001b[1;33m\u001b[0m\u001b[0m\n\u001b[0;32m   2910\u001b[0m         \u001b[1;31m# take() does not accept boolean indexers\u001b[0m\u001b[1;33m\u001b[0m\u001b[1;33m\u001b[0m\u001b[1;33m\u001b[0m\u001b[0m\n",
      "\u001b[1;32m~\\AppData\\Local\\Packages\\PythonSoftwareFoundation.Python.3.8_qbz5n2kfra8p0\\LocalCache\\local-packages\\Python38\\site-packages\\pandas\\core\\indexing.py\u001b[0m in \u001b[0;36m_get_listlike_indexer\u001b[1;34m(self, key, axis, raise_missing)\u001b[0m\n\u001b[0;32m   1252\u001b[0m             \u001b[0mkeyarr\u001b[0m\u001b[1;33m,\u001b[0m \u001b[0mindexer\u001b[0m\u001b[1;33m,\u001b[0m \u001b[0mnew_indexer\u001b[0m \u001b[1;33m=\u001b[0m \u001b[0max\u001b[0m\u001b[1;33m.\u001b[0m\u001b[0m_reindex_non_unique\u001b[0m\u001b[1;33m(\u001b[0m\u001b[0mkeyarr\u001b[0m\u001b[1;33m)\u001b[0m\u001b[1;33m\u001b[0m\u001b[1;33m\u001b[0m\u001b[0m\n\u001b[0;32m   1253\u001b[0m \u001b[1;33m\u001b[0m\u001b[0m\n\u001b[1;32m-> 1254\u001b[1;33m         \u001b[0mself\u001b[0m\u001b[1;33m.\u001b[0m\u001b[0m_validate_read_indexer\u001b[0m\u001b[1;33m(\u001b[0m\u001b[0mkeyarr\u001b[0m\u001b[1;33m,\u001b[0m \u001b[0mindexer\u001b[0m\u001b[1;33m,\u001b[0m \u001b[0maxis\u001b[0m\u001b[1;33m,\u001b[0m \u001b[0mraise_missing\u001b[0m\u001b[1;33m=\u001b[0m\u001b[0mraise_missing\u001b[0m\u001b[1;33m)\u001b[0m\u001b[1;33m\u001b[0m\u001b[1;33m\u001b[0m\u001b[0m\n\u001b[0m\u001b[0;32m   1255\u001b[0m         \u001b[1;32mreturn\u001b[0m \u001b[0mkeyarr\u001b[0m\u001b[1;33m,\u001b[0m \u001b[0mindexer\u001b[0m\u001b[1;33m\u001b[0m\u001b[1;33m\u001b[0m\u001b[0m\n\u001b[0;32m   1256\u001b[0m \u001b[1;33m\u001b[0m\u001b[0m\n",
      "\u001b[1;32m~\\AppData\\Local\\Packages\\PythonSoftwareFoundation.Python.3.8_qbz5n2kfra8p0\\LocalCache\\local-packages\\Python38\\site-packages\\pandas\\core\\indexing.py\u001b[0m in \u001b[0;36m_validate_read_indexer\u001b[1;34m(self, key, indexer, axis, raise_missing)\u001b[0m\n\u001b[0;32m   1296\u001b[0m             \u001b[1;32mif\u001b[0m \u001b[0mmissing\u001b[0m \u001b[1;33m==\u001b[0m \u001b[0mlen\u001b[0m\u001b[1;33m(\u001b[0m\u001b[0mindexer\u001b[0m\u001b[1;33m)\u001b[0m\u001b[1;33m:\u001b[0m\u001b[1;33m\u001b[0m\u001b[1;33m\u001b[0m\u001b[0m\n\u001b[0;32m   1297\u001b[0m                 \u001b[0maxis_name\u001b[0m \u001b[1;33m=\u001b[0m \u001b[0mself\u001b[0m\u001b[1;33m.\u001b[0m\u001b[0mobj\u001b[0m\u001b[1;33m.\u001b[0m\u001b[0m_get_axis_name\u001b[0m\u001b[1;33m(\u001b[0m\u001b[0maxis\u001b[0m\u001b[1;33m)\u001b[0m\u001b[1;33m\u001b[0m\u001b[1;33m\u001b[0m\u001b[0m\n\u001b[1;32m-> 1298\u001b[1;33m                 \u001b[1;32mraise\u001b[0m \u001b[0mKeyError\u001b[0m\u001b[1;33m(\u001b[0m\u001b[1;34mf\"None of [{key}] are in the [{axis_name}]\"\u001b[0m\u001b[1;33m)\u001b[0m\u001b[1;33m\u001b[0m\u001b[1;33m\u001b[0m\u001b[0m\n\u001b[0m\u001b[0;32m   1299\u001b[0m \u001b[1;33m\u001b[0m\u001b[0m\n\u001b[0;32m   1300\u001b[0m             \u001b[1;31m# We (temporarily) allow for some missing keys with .loc, except in\u001b[0m\u001b[1;33m\u001b[0m\u001b[1;33m\u001b[0m\u001b[1;33m\u001b[0m\u001b[0m\n",
      "\u001b[1;31mKeyError\u001b[0m: \"None of [Int64Index([8, 4, 9, 3, 5, 1, 12, 13, 9, 9, 13, 6, 13, 4], dtype='int64')] are in the [columns]\""
     ]
    }
   ],
   "source": [
    "def bootstrap_resample(dataset):\n",
    "    \"\"\" Bootstrap resample an array_like\n",
    "    Parameters\n",
    "    ----------\n",
    "    X : array_like\n",
    "      data to resample\n",
    "    n : int, optional\n",
    "      length of resampled array, equal to len(X) if n==None\n",
    "    Results\n",
    "    -------\n",
    "    returns X_resamples\n",
    "    \"\"\"\n",
    "    #if n == None:\n",
    "    n = len(dataset)\n",
    "        \n",
    "    resample_i = np.floor(np.random.rand(n)*len(dataset)).astype(int)\n",
    "    dataset_resample = dataset[resample_i]\n",
    "    return dataset_resample\n",
    "\n",
    "teste3 = bootstrap_resample(dataset)\n",
    "teste3.describe()"
   ]
  },
  {
   "cell_type": "code",
   "execution_count": 25,
   "metadata": {},
   "outputs": [
    {
     "output_type": "stream",
     "name": "stdout",
     "text": [
      "(         Tempo Temperatura Umidade     Ventoso Joga\n2      Nublado      Quente    Alta       Falso  Sim\n3      Chuvoso       Amena    Alta       Falso  Sim\n4      Chuvoso        Fria  Normal       Falso  Sim\n5      Chuvoso        Fria  Normal  Verdadeiro  Nao\n6      Nublado        Fria  Normal  Verdadeiro  Sim\n7   Ensolarado       Amena    Alta       Falso  Nao\n8   Ensolarado        Fria  Normal       Falso  Sim\n9      Chuvoso       Amena  Normal       Falso  Sim\n10  Ensolarado       Amena  Normal  Verdadeiro  Sim\n11     Nublado       Amena    Alta  Verdadeiro  Sim\n12     Nublado      Quente  Normal       Falso  Sim\n13     Chuvoso       Amena    Alta  Verdadeiro  Nao,         Tempo Temperatura Umidade     Ventoso Joga\n0  Ensolarado      Quente    Alta       Falso  Nao\n1  Ensolarado      Quente    Alta  Verdadeiro  Nao)\n(         Tempo Temperatura Umidade     Ventoso Joga\n0   Ensolarado      Quente    Alta       Falso  Nao\n1   Ensolarado      Quente    Alta  Verdadeiro  Nao\n4      Chuvoso        Fria  Normal       Falso  Sim\n5      Chuvoso        Fria  Normal  Verdadeiro  Nao\n6      Nublado        Fria  Normal  Verdadeiro  Sim\n7   Ensolarado       Amena    Alta       Falso  Nao\n8   Ensolarado        Fria  Normal       Falso  Sim\n9      Chuvoso       Amena  Normal       Falso  Sim\n10  Ensolarado       Amena  Normal  Verdadeiro  Sim\n11     Nublado       Amena    Alta  Verdadeiro  Sim\n12     Nublado      Quente  Normal       Falso  Sim\n13     Chuvoso       Amena    Alta  Verdadeiro  Nao,      Tempo Temperatura Umidade Ventoso Joga\n2  Nublado      Quente    Alta   Falso  Sim\n3  Chuvoso       Amena    Alta   Falso  Sim)\n(         Tempo Temperatura Umidade     Ventoso Joga\n0   Ensolarado      Quente    Alta       Falso  Nao\n1   Ensolarado      Quente    Alta  Verdadeiro  Nao\n2      Nublado      Quente    Alta       Falso  Sim\n3      Chuvoso       Amena    Alta       Falso  Sim\n6      Nublado        Fria  Normal  Verdadeiro  Sim\n7   Ensolarado       Amena    Alta       Falso  Nao\n8   Ensolarado        Fria  Normal       Falso  Sim\n9      Chuvoso       Amena  Normal       Falso  Sim\n10  Ensolarado       Amena  Normal  Verdadeiro  Sim\n11     Nublado       Amena    Alta  Verdadeiro  Sim\n12     Nublado      Quente  Normal       Falso  Sim\n13     Chuvoso       Amena    Alta  Verdadeiro  Nao,      Tempo Temperatura Umidade     Ventoso Joga\n4  Chuvoso        Fria  Normal       Falso  Sim\n5  Chuvoso        Fria  Normal  Verdadeiro  Nao)\n(         Tempo Temperatura Umidade     Ventoso Joga\n0   Ensolarado      Quente    Alta       Falso  Nao\n1   Ensolarado      Quente    Alta  Verdadeiro  Nao\n2      Nublado      Quente    Alta       Falso  Sim\n3      Chuvoso       Amena    Alta       Falso  Sim\n4      Chuvoso        Fria  Normal       Falso  Sim\n5      Chuvoso        Fria  Normal  Verdadeiro  Nao\n8   Ensolarado        Fria  Normal       Falso  Sim\n9      Chuvoso       Amena  Normal       Falso  Sim\n10  Ensolarado       Amena  Normal  Verdadeiro  Sim\n11     Nublado       Amena    Alta  Verdadeiro  Sim\n12     Nublado      Quente  Normal       Falso  Sim\n13     Chuvoso       Amena    Alta  Verdadeiro  Nao,         Tempo Temperatura Umidade     Ventoso Joga\n6     Nublado        Fria  Normal  Verdadeiro  Sim\n7  Ensolarado       Amena    Alta       Falso  Nao)\n(         Tempo Temperatura Umidade     Ventoso Joga\n0   Ensolarado      Quente    Alta       Falso  Nao\n1   Ensolarado      Quente    Alta  Verdadeiro  Nao\n2      Nublado      Quente    Alta       Falso  Sim\n3      Chuvoso       Amena    Alta       Falso  Sim\n4      Chuvoso        Fria  Normal       Falso  Sim\n5      Chuvoso        Fria  Normal  Verdadeiro  Nao\n6      Nublado        Fria  Normal  Verdadeiro  Sim\n7   Ensolarado       Amena    Alta       Falso  Nao\n9      Chuvoso       Amena  Normal       Falso  Sim\n10  Ensolarado       Amena  Normal  Verdadeiro  Sim\n11     Nublado       Amena    Alta  Verdadeiro  Sim\n12     Nublado      Quente  Normal       Falso  Sim\n13     Chuvoso       Amena    Alta  Verdadeiro  Nao,         Tempo Temperatura Umidade Ventoso Joga\n8  Ensolarado        Fria  Normal   Falso  Sim)\n(         Tempo Temperatura Umidade     Ventoso Joga\n0   Ensolarado      Quente    Alta       Falso  Nao\n1   Ensolarado      Quente    Alta  Verdadeiro  Nao\n2      Nublado      Quente    Alta       Falso  Sim\n3      Chuvoso       Amena    Alta       Falso  Sim\n4      Chuvoso        Fria  Normal       Falso  Sim\n5      Chuvoso        Fria  Normal  Verdadeiro  Nao\n6      Nublado        Fria  Normal  Verdadeiro  Sim\n7   Ensolarado       Amena    Alta       Falso  Nao\n8   Ensolarado        Fria  Normal       Falso  Sim\n10  Ensolarado       Amena  Normal  Verdadeiro  Sim\n11     Nublado       Amena    Alta  Verdadeiro  Sim\n12     Nublado      Quente  Normal       Falso  Sim\n13     Chuvoso       Amena    Alta  Verdadeiro  Nao,      Tempo Temperatura Umidade Ventoso Joga\n9  Chuvoso       Amena  Normal   Falso  Sim)\n(         Tempo Temperatura Umidade     Ventoso Joga\n0   Ensolarado      Quente    Alta       Falso  Nao\n1   Ensolarado      Quente    Alta  Verdadeiro  Nao\n2      Nublado      Quente    Alta       Falso  Sim\n3      Chuvoso       Amena    Alta       Falso  Sim\n4      Chuvoso        Fria  Normal       Falso  Sim\n5      Chuvoso        Fria  Normal  Verdadeiro  Nao\n6      Nublado        Fria  Normal  Verdadeiro  Sim\n7   Ensolarado       Amena    Alta       Falso  Nao\n8   Ensolarado        Fria  Normal       Falso  Sim\n9      Chuvoso       Amena  Normal       Falso  Sim\n11     Nublado       Amena    Alta  Verdadeiro  Sim\n12     Nublado      Quente  Normal       Falso  Sim\n13     Chuvoso       Amena    Alta  Verdadeiro  Nao,          Tempo Temperatura Umidade     Ventoso Joga\n10  Ensolarado       Amena  Normal  Verdadeiro  Sim)\n(         Tempo Temperatura Umidade     Ventoso Joga\n0   Ensolarado      Quente    Alta       Falso  Nao\n1   Ensolarado      Quente    Alta  Verdadeiro  Nao\n2      Nublado      Quente    Alta       Falso  Sim\n3      Chuvoso       Amena    Alta       Falso  Sim\n4      Chuvoso        Fria  Normal       Falso  Sim\n5      Chuvoso        Fria  Normal  Verdadeiro  Nao\n6      Nublado        Fria  Normal  Verdadeiro  Sim\n7   Ensolarado       Amena    Alta       Falso  Nao\n8   Ensolarado        Fria  Normal       Falso  Sim\n9      Chuvoso       Amena  Normal       Falso  Sim\n10  Ensolarado       Amena  Normal  Verdadeiro  Sim\n12     Nublado      Quente  Normal       Falso  Sim\n13     Chuvoso       Amena    Alta  Verdadeiro  Nao,       Tempo Temperatura Umidade     Ventoso Joga\n11  Nublado       Amena    Alta  Verdadeiro  Sim)\n(         Tempo Temperatura Umidade     Ventoso Joga\n0   Ensolarado      Quente    Alta       Falso  Nao\n1   Ensolarado      Quente    Alta  Verdadeiro  Nao\n2      Nublado      Quente    Alta       Falso  Sim\n3      Chuvoso       Amena    Alta       Falso  Sim\n4      Chuvoso        Fria  Normal       Falso  Sim\n5      Chuvoso        Fria  Normal  Verdadeiro  Nao\n6      Nublado        Fria  Normal  Verdadeiro  Sim\n7   Ensolarado       Amena    Alta       Falso  Nao\n8   Ensolarado        Fria  Normal       Falso  Sim\n9      Chuvoso       Amena  Normal       Falso  Sim\n10  Ensolarado       Amena  Normal  Verdadeiro  Sim\n11     Nublado       Amena    Alta  Verdadeiro  Sim\n13     Chuvoso       Amena    Alta  Verdadeiro  Nao,       Tempo Temperatura Umidade Ventoso Joga\n12  Nublado      Quente  Normal   Falso  Sim)\n(         Tempo Temperatura Umidade     Ventoso Joga\n0   Ensolarado      Quente    Alta       Falso  Nao\n1   Ensolarado      Quente    Alta  Verdadeiro  Nao\n2      Nublado      Quente    Alta       Falso  Sim\n3      Chuvoso       Amena    Alta       Falso  Sim\n4      Chuvoso        Fria  Normal       Falso  Sim\n5      Chuvoso        Fria  Normal  Verdadeiro  Nao\n6      Nublado        Fria  Normal  Verdadeiro  Sim\n7   Ensolarado       Amena    Alta       Falso  Nao\n8   Ensolarado        Fria  Normal       Falso  Sim\n9      Chuvoso       Amena  Normal       Falso  Sim\n10  Ensolarado       Amena  Normal  Verdadeiro  Sim\n11     Nublado       Amena    Alta  Verdadeiro  Sim\n12     Nublado      Quente  Normal       Falso  Sim,       Tempo Temperatura Umidade     Ventoso Joga\n13  Chuvoso       Amena    Alta  Verdadeiro  Nao)\n"
     ]
    }
   ],
   "source": [
    "def k_folds(dataset, k=10):\n",
    "\n",
    "    folds = np.array_split(dataset, k)          # Divide um array em múltiplos sub-arrays\n",
    "    for i in range(k):\n",
    "        train = folds.copy()                    # Cria uma cópia para cada fold\n",
    "        train.pop(i)                            # Retira o item i do quadro.\n",
    "        train = pd.concat(train, sort=False)    # Concatena os itens divididos em um conjunto de treinamento\n",
    "        test = folds[i]                         # Os demais itens utilizados para treinamento\n",
    "        yield train, test\n",
    "\n",
    "# Teste da função \n",
    "for value in k_folds(dataset, k=10):  \n",
    "    print(value) "
   ]
  },
  {
   "cell_type": "code",
   "execution_count": 5,
   "metadata": {},
   "outputs": [
    {
     "output_type": "error",
     "ename": "NameError",
     "evalue": "name 'Joga' is not defined",
     "traceback": [
      "\u001b[1;31m---------------------------------------------------------------------------\u001b[0m",
      "\u001b[1;31mNameError\u001b[0m                                 Traceback (most recent call last)",
      "\u001b[1;32m<ipython-input-5-dec6d1bb03bc>\u001b[0m in \u001b[0;36m<module>\u001b[1;34m\u001b[0m\n\u001b[0;32m     16\u001b[0m \u001b[1;33m\u001b[0m\u001b[0m\n\u001b[0;32m     17\u001b[0m \u001b[1;31m# Teste da função\u001b[0m\u001b[1;33m\u001b[0m\u001b[1;33m\u001b[0m\u001b[1;33m\u001b[0m\u001b[0m\n\u001b[1;32m---> 18\u001b[1;33m \u001b[1;32mfor\u001b[0m \u001b[0mvalue1\u001b[0m \u001b[1;32min\u001b[0m \u001b[0mstratified_k_fold\u001b[0m\u001b[1;33m(\u001b[0m\u001b[0mdataset\u001b[0m\u001b[1;33m,\u001b[0m \u001b[0mdataset\u001b[0m\u001b[1;33m[\u001b[0m\u001b[0mJoga\u001b[0m\u001b[1;33m]\u001b[0m\u001b[1;33m,\u001b[0m \u001b[0mk\u001b[0m\u001b[1;33m=\u001b[0m\u001b[1;36m10\u001b[0m\u001b[1;33m)\u001b[0m\u001b[1;33m:\u001b[0m\u001b[1;33m\u001b[0m\u001b[1;33m\u001b[0m\u001b[0m\n\u001b[0m\u001b[0;32m     19\u001b[0m     \u001b[0mprint\u001b[0m\u001b[1;33m(\u001b[0m\u001b[0mvalue1\u001b[0m\u001b[1;33m)\u001b[0m\u001b[1;33m\u001b[0m\u001b[1;33m\u001b[0m\u001b[0m\n",
      "\u001b[1;31mNameError\u001b[0m: name 'Joga' is not defined"
     ]
    }
   ],
   "source": [
    "def stratified_k_fold(dataset, classe, k=10):\n",
    "    data = dataset.sample(frac=1).reset_index(drop=True) # Shuffle DataFrame rows\n",
    "\n",
    "    folds_per_class = []\n",
    "    for _, g in data.groupby(class_column):\n",
    "        folds_per_class.append(k_cross_fold(g, k=k))  # create fold for each class\n",
    "    \n",
    "    for _ in range(k):\n",
    "        train = pd.DataFrame()\n",
    "        test = pd.DataFrame()\n",
    "        for c in range(len(folds_per_class)):         # append the next fold for each class\n",
    "            train_c, test_c = next(folds_per_class[c])\n",
    "            train = train.append(train_c)\n",
    "            test = test.append(test_c)\n",
    "        yield train, test\n",
    "\n",
    "# Teste da função \n",
    "for value1 in stratified_k_fold(dataset, dataset[Joga], k=10):  \n",
    "    print(value1) "
   ]
  },
  {
   "source": [
    "## Testes de avaliaçao para a arvore"
   ],
   "cell_type": "markdown",
   "metadata": {}
  },
  {
   "cell_type": "code",
   "execution_count": 9,
   "metadata": {},
   "outputs": [],
   "source": [
    "from collections import Counter, defaultdict, OrderedDict\n",
    "from functools import partial\n",
    "import math, random\n",
    "import pandas as pd\n",
    "from csv import reader\n",
    "import numpy as np\n",
    "from random import seed\n",
    "from random import randrange"
   ]
  },
  {
   "source": [
    "- Gerar um banco de dados através do bootstrap\n",
    "- Dividir o banco e K folds\n",
    "- Separar os folds e dois bancos de dados, treino e teste\n",
    "- aplicar os bancos de treinamento na arvore de decisão e fazer a classificação dos resultados com o banco de teste\n",
    "- Avaliar os resultados em acuracia "
   ],
   "cell_type": "markdown",
   "metadata": {}
  },
  {
   "cell_type": "code",
   "execution_count": 69,
   "metadata": {},
   "outputs": [
    {
     "output_type": "stream",
     "name": "stdout",
     "text": [
      "         Tempo Temperatura Umidade     Ventoso Joga\n1   Ensolarado      Quente    Alta  Verdadeiro  Nao\n3      Chuvoso       Amena    Alta       Falso  Sim\n1   Ensolarado      Quente    Alta  Verdadeiro  Nao\n5      Chuvoso        Fria  Normal  Verdadeiro  Nao\n6      Nublado        Fria  Normal  Verdadeiro  Sim\n2      Nublado      Quente    Alta       Falso  Sim\n9      Chuvoso       Amena  Normal       Falso  Sim\n9      Chuvoso       Amena  Normal       Falso  Sim\n8   Ensolarado        Fria  Normal       Falso  Sim\n3      Chuvoso       Amena    Alta       Falso  Sim\n9      Chuvoso       Amena  Normal       Falso  Sim\n13     Chuvoso       Amena    Alta  Verdadeiro  Nao\n3      Chuvoso       Amena    Alta       Falso  Sim\n13     Chuvoso       Amena    Alta  Verdadeiro  Nao\n"
     ]
    }
   ],
   "source": [
    "def bootstrap(dataset):\n",
    "    bootstrap = dataset.sample(n = len(dataset), replace = True)\n",
    "    return bootstrap\n",
    "\n",
    "result_bootstrap = bootstrap(pd.read_csv('datasets/benchmark.csv'))\n",
    "\n",
    "print(result_bootstrap)"
   ]
  },
  {
   "cell_type": "code",
   "execution_count": 75,
   "metadata": {},
   "outputs": [
    {
     "output_type": "execute_result",
     "data": {
      "text/plain": [
       "[[['Nublado', 'Fria', 'Normal', 'Verdadeiro', 'Sim'],\n",
       "  ['Chuvoso', 'Amena', 'Normal', 'Falso', 'Sim']],\n",
       " [['Ensolarado', 'Fria', 'Normal', 'Falso', 'Sim'],\n",
       "  ['Chuvoso', 'Amena', 'Alta', 'Verdadeiro', 'Nao']],\n",
       " [['Nublado', 'Quente', 'Alta', 'Falso', 'Sim'],\n",
       "  ['Chuvoso', 'Amena', 'Alta', 'Falso', 'Sim']],\n",
       " [['Chuvoso', 'Amena', 'Alta', 'Verdadeiro', 'Nao'],\n",
       "  ['Chuvoso', 'Amena', 'Alta', 'Falso', 'Sim']],\n",
       " [['Chuvoso', 'Amena', 'Normal', 'Falso', 'Sim'],\n",
       "  ['Chuvoso', 'Amena', 'Normal', 'Falso', 'Sim']]]"
      ]
     },
     "metadata": {},
     "execution_count": 75
    }
   ],
   "source": [
    "def cross_validation_split(dataset, n_folds):\n",
    "    dataset_split = list()\n",
    "    dataset_copy = list(dataset)\n",
    "    fold_size = int(len(dataset) / n_folds)\n",
    "    for _ in range(n_folds):\n",
    "        fold = list()\n",
    "        while len(fold) < fold_size:\n",
    "            index = randrange(len(dataset_copy))\n",
    "            fold.append(dataset_copy.pop(index))\n",
    "        dataset_split.append(fold)\n",
    "    return dataset_split\n",
    "\n",
    "cross_val = cross_validation_split(result_bootstrap.values.tolist(), 5)\n",
    "cross_val"
   ]
  },
  {
   "cell_type": "code",
   "execution_count": 92,
   "metadata": {},
   "outputs": [
    {
     "output_type": "stream",
     "name": "stdout",
     "text": [
      "[[['Chuvoso', 'Amena', 'Alta', 'Verdadeiro', 'Nao'], ['Chuvoso', 'Amena', 'Alta', 'Falso', 'Sim']]]\n"
     ]
    },
    {
     "output_type": "execute_result",
     "data": {
      "text/plain": [
       "[[['Nublado', 'Quente', 'Alta', 'Falso', 'Sim'],\n",
       "  ['Chuvoso', 'Amena', 'Alta', 'Falso', 'Sim']],\n",
       " [['Chuvoso', 'Amena', 'Normal', 'Falso', 'Sim'],\n",
       "  ['Chuvoso', 'Amena', 'Normal', 'Falso', 'Sim']],\n",
       " [['Ensolarado', 'Fria', 'Normal', 'Falso', 'Sim'],\n",
       "  ['Chuvoso', 'Amena', 'Alta', 'Verdadeiro', 'Nao']],\n",
       " [['Chuvoso', 'Amena', 'Alta', 'Verdadeiro', 'Nao'],\n",
       "  ['Chuvoso', 'Amena', 'Alta', 'Falso', 'Sim']]]"
      ]
     },
     "metadata": {},
     "execution_count": 92
    }
   ],
   "source": [
    "def train_split(dataset, n_folds, *args):\n",
    "    folds = cross_validation_split(dataset, n_folds)\n",
    "    for fold in folds:\n",
    "        train_set = list(folds)\n",
    "        train_set.remove(fold)\n",
    "        train_set = sum(train_set, [])\n",
    "        return train_set\n",
    "\n",
    "def test_split(dataset, n_folds, *args):\n",
    "    folds = cross_validation_split(dataset, n_folds)\n",
    "    for fold in folds:\n",
    "        test_set = list(fold)\n",
    "        return test_set\n",
    "\n",
    "\n",
    "# Não está retendo os dados do banco de bootstrap, é os mesmos dados, mas ainda tá flutuando e gerando listas diferentes, temos que discutir se isso tem algum problema \n",
    "\n",
    "\n",
    "test_set = test_split(cross_val, 5) \n",
    "print (test_set) #tem que remover a classe nesse banco\n",
    "\n",
    "train_set = train_split(cross_val, 5) \n",
    "train_set"
   ]
  },
  {
   "cell_type": "code",
   "execution_count": 13,
   "metadata": {},
   "outputs": [],
   "source": [
    "matrix = list()\n",
    "accuracy = list()\n",
    "recall = list()\n",
    "precision = list()\n",
    "score = list()\n",
    "\n",
    "def classification_report(reais, preditos):\n",
    "    # definindo as classes\n",
    "    true_class = 1\n",
    "    negative_class = 0\n",
    "    # declarando a frêquencia\n",
    "    tp = 0\n",
    "    tn = 0\n",
    "    fp = 0\n",
    "    fn = 0\n",
    "    \n",
    "    # criando a matriz de confusão\n",
    "    for (indice, v_real) in enumerate(reais):\n",
    "        v_predito = preditos[indice]\n",
    "        # se trata de um valor real da classe positiva\n",
    "        if v_real == true_class:\n",
    "            tp += 1 if v_predito == v_real else 0\n",
    "            fp += 1 if v_predito != v_real else 0\n",
    "        else:\n",
    "            tn += 1 if v_predito == v_real else 0\n",
    "            fn += 1 if v_predito != v_real else 0\n",
    "            \n",
    "    # calculando os valores de frêquencia\n",
    "    accuracy.append((tp+tn)/(tp+fp+tn+fn))\n",
    "    recall.append(tp/(tp+fn))\n",
    "    precision.append(tp/(tp+fp))\n",
    "    score.append(2*tp/(2*tp+fp+fn))\n",
    "    \n",
    "    # desenhando a matriz de confusão\n",
    "    print(np.array([\n",
    "        [ tp, fp ],\n",
    "        [ fn, tn ]\n",
    "    ]))"
   ]
  },
  {
   "cell_type": "code",
   "execution_count": 14,
   "metadata": {},
   "outputs": [],
   "source": [
    "# DIVISÃO TREINO E TESTE\n",
    "\n",
    "def evaluate_algorithm(dataset, algorithm, n_folds, *args):\n",
    "\tfolds = cross_validation_split(dataset, n_folds)\n",
    "\tscores = list()\n",
    "\tfor fold in folds:\n",
    "\t\ttrain_set = list(folds)\n",
    "\t\ttrain_set.remove(fold)\n",
    "\t\ttrain_set = sum(train_set, [])\n",
    "\t\ttest_set = list()\n",
    "\t\tfor row in fold:\n",
    "\t\t\trow_copy = list(row)\n",
    "\t\t\ttest_set.append(row_copy)\n",
    "\t\t\trow_copy[-1] = None\n",
    "\t\tpredicted = algorithm(train_set, test_set, *args)\n",
    "\t\tactual = [row[-1] for row in fold]\n",
    "\t\taccuracy = accuracy_metric(actual, predicted)\n",
    "\t\tscores.append(accuracy)\n",
    "\treturn scores\n"
   ]
  },
  {
   "cell_type": "code",
   "execution_count": null,
   "metadata": {},
   "outputs": [],
   "source": []
  }
 ]
}