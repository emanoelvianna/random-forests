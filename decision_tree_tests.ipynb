{
 "metadata": {
  "language_info": {
   "codemirror_mode": {
    "name": "ipython",
    "version": 3
   },
   "file_extension": ".py",
   "mimetype": "text/x-python",
   "name": "python",
   "nbconvert_exporter": "python",
   "pygments_lexer": "ipython3",
   "version": "3.8.6-final"
  },
  "orig_nbformat": 2,
  "kernelspec": {
   "name": "Python 3.8.6 64-bit",
   "display_name": "Python 3.8.6 64-bit",
   "metadata": {
    "interpreter": {
     "hash": "9178afb9b3daeee402732af4e4aef10a7593df5184141cef26a75ebe4e69e442"
    }
   }
  }
 },
 "nbformat": 4,
 "nbformat_minor": 2,
 "cells": [
  {
   "source": [
    "To fazendo alguns testes separados aqui nesse notebook, vou tentar fazer esse teste de exemplo que tem no pdf novo que subi, que tá no moodle. Acho que as duas principais coisas que temos que resolver é conseguir executar uma arvore de decisão simples com esses dados de benchmark e fazer um cross validation com algum outro tipo de dado, pq o meu do exercício anterior não deu certo.\n",
    "\n",
    "Vou seguir fazendo esse exemplo aqui, depois se puder sobe teu trabalho de crossvalidation pra gente já começar a ajustar caso não esteja fazendo aquela divisão estratificada que falamos aquele dia. "
   ],
   "cell_type": "markdown",
   "metadata": {}
  },
  {
   "source": [
    "import pandas as pd\n",
    "import numpy as np\n",
    "import warnings\n",
    "warnings.filterwarnings('ignore')\n",
    "\n",
    "from __future__ import print_function\n",
    "\n",
    "dataset = pd.read_csv(\"C:/Users/renan/Desktop/UFRGS/Machine Learning/Trabalho1/random-forests-1/dadosBenchmark_validacaoAlgoritmoAD.csv\") \n",
    "\n",
    "dir(dataset)\n",
    "\n",
    "print ('Banco com %d amostras e %d colunas\\n' % dataset.shape)\n",
    "\n",
    "print ('Tabela sumarizando as colunas do banco\\n')\n",
    "dataset.describe()"
   ],
   "cell_type": "code",
   "metadata": {
    "tags": []
   },
   "execution_count": 19,
   "outputs": [
    {
     "output_type": "stream",
     "name": "stdout",
     "text": "Banco com 14 amostras e 5 colunas\n\nTabela sumarizando as colunas do banco\n\n"
    },
    {
     "output_type": "execute_result",
     "data": {
      "text/plain": "             Tempo Temperatura Umidade Ventoso Joga\ncount           14          14      14      14   14\nunique           3           3       2       2    2\ntop     Ensolarado       Amena  Normal   Falso  Sim\nfreq             5           6       7       8    9",
      "text/html": "<div>\n<style scoped>\n    .dataframe tbody tr th:only-of-type {\n        vertical-align: middle;\n    }\n\n    .dataframe tbody tr th {\n        vertical-align: top;\n    }\n\n    .dataframe thead th {\n        text-align: right;\n    }\n</style>\n<table border=\"1\" class=\"dataframe\">\n  <thead>\n    <tr style=\"text-align: right;\">\n      <th></th>\n      <th>Tempo</th>\n      <th>Temperatura</th>\n      <th>Umidade</th>\n      <th>Ventoso</th>\n      <th>Joga</th>\n    </tr>\n  </thead>\n  <tbody>\n    <tr>\n      <th>count</th>\n      <td>14</td>\n      <td>14</td>\n      <td>14</td>\n      <td>14</td>\n      <td>14</td>\n    </tr>\n    <tr>\n      <th>unique</th>\n      <td>3</td>\n      <td>3</td>\n      <td>2</td>\n      <td>2</td>\n      <td>2</td>\n    </tr>\n    <tr>\n      <th>top</th>\n      <td>Ensolarado</td>\n      <td>Amena</td>\n      <td>Normal</td>\n      <td>Falso</td>\n      <td>Sim</td>\n    </tr>\n    <tr>\n      <th>freq</th>\n      <td>5</td>\n      <td>6</td>\n      <td>7</td>\n      <td>8</td>\n      <td>9</td>\n    </tr>\n  </tbody>\n</table>\n</div>"
     },
     "metadata": {},
     "execution_count": 19
    }
   ]
  },
  {
   "cell_type": "code",
   "execution_count": 30,
   "metadata": {},
   "outputs": [],
   "source": [
    "n_samples, n_features = dataset.shape"
   ]
  },
  {
   "cell_type": "code",
   "execution_count": 24,
   "metadata": {},
   "outputs": [
    {
     "output_type": "execute_result",
     "data": {
      "text/plain": "{&#39;J&#39;, &#39;T&#39;, &#39;U&#39;, &#39;V&#39;}"
     },
     "metadata": {},
     "execution_count": 24
    }
   ],
   "source": [
    "unique_vals(dataset, 0)"
   ]
  },
  {
   "cell_type": "code",
   "execution_count": 22,
   "metadata": {},
   "outputs": [
    {
     "output_type": "execute_result",
     "data": {
      "text/plain": "{&#39;o&#39;: 2, &#39;a&#39;: 2, &#39;e&#39;: 1}"
     },
     "metadata": {},
     "execution_count": 22
    }
   ],
   "source": [
    "def class_counts(rows):\n",
    "    \n",
    "    counts = {}  \n",
    "    for row in rows:\n",
    "        \n",
    "        Joga = row[-1]\n",
    "        if Joga not in counts:\n",
    "            counts[Joga] = 0\n",
    "        counts[Joga] += 1\n",
    "    return counts\n",
    "\n",
    "class_counts(dataset)"
   ]
  },
  {
   "cell_type": "code",
   "execution_count": 26,
   "metadata": {},
   "outputs": [],
   "source": [
    "def gini(rows):\n",
    "  \n",
    "    counts = class_counts(rows)\n",
    "    impurity = 1\n",
    "    for lbl in counts:\n",
    "        prob_of_lbl = counts[lbl] / float(len(rows))\n",
    "        impurity -= prob_of_lbl**2\n",
    "    return impurity"
   ]
  },
  {
   "cell_type": "code",
   "execution_count": 27,
   "metadata": {},
   "outputs": [],
   "source": [
    "def entropy_criterion(data, labels):\n",
    "  \"\"\" Entropy\n",
    "  Parameters\n",
    "  ----------\n",
    "  data: numpy array-like = [n_samples, n_features]\n",
    "  labels: numpy array-like, shape = [n_samples]\n",
    "  \n",
    "  Return\n",
    "  ------\n",
    "  entropy: float\n",
    "  \"\"\"\n",
    "  classes = np.unique(labels)\n",
    "  \n",
    "  s = 0\n",
    "  for c in classes:\n",
    "    p = np.mean(labels == c)\n",
    "    s -= p * np.log(p)\n",
    "    \n",
    "  return s"
   ]
  },
  {
   "cell_type": "code",
   "execution_count": null,
   "metadata": {},
   "outputs": [],
   "source": []
  }
 ]
}