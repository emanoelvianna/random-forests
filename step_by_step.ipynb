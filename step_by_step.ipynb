{
 "metadata": {
  "language_info": {
   "codemirror_mode": {
    "name": "ipython",
    "version": 3
   },
   "file_extension": ".py",
   "mimetype": "text/x-python",
   "name": "python",
   "nbconvert_exporter": "python",
   "pygments_lexer": "ipython3",
   "version": 3
  },
  "orig_nbformat": 2
 },
 "nbformat": 4,
 "nbformat_minor": 2,
 "cells": [
  {
   "source": [
    "## **Objetivos do trabalho** \n"
   ],
   "cell_type": "markdown",
   "metadata": {}
  },
  {
   "source": [
    "- O algoritmo de indução de uma árvore de decisão, usando como critério de seleção de atributos para divisão de nós o Ganho de Informação (baseado no conceito de entropia), como visto na disciplina, tratando tanto atributos categóricos quanto numéricos;"
   ],
   "cell_type": "markdown",
   "metadata": {}
  },
  {
   "cell_type": "code",
   "execution_count": null,
   "metadata": {},
   "outputs": [],
   "source": [
    "# Podemos ir adicionando os códigos de cada etapa aqui, entre cada objetivo, a gente pode ir fazendo testes em outros arquivos como esse que tu criou e depois de estar funcionando copiamos pra cá. Acho que isso vai ajudar a nos organizar depois para o relatório.  "
   ]
  },
  {
   "source": [
    "- Uma função para percorrer a árvore de decisão treinada e realizar a classificação de uma nova\n",
    "instância (do conjunto de teste);"
   ],
   "cell_type": "markdown",
   "metadata": {}
  },
  {
   "source": [
    "- O mecanismo de bootstrap (amostragem com reposição) para geração de subconjuntos a partir do conjunto de dados de treinamento originais. Cada bootstrap será utilizado para o treinamento de uma árvore no aprendizado ensemble;"
   ],
   "cell_type": "markdown",
   "metadata": {}
  },
  {
   "source": [
    "- O mecanismo de amostragem de m atributos a cada divisão de nó, a partir dos quais será selecionado o melhor atributo de acordo com o critério de Ganho de Informação;"
   ],
   "cell_type": "markdown",
   "metadata": {}
  },
  {
   "source": [
    "- O treinamento de um ensemble de árvores de decisão, adotando os mecanismos de bootstrap e seleção de atributos com amostragem, como mencionados acima;"
   ],
   "cell_type": "markdown",
   "metadata": {}
  },
  {
   "source": [
    "- O mecanismo de votação majoritária entre as múltiplas árvores de decisão no ensemble, para classificação de novas instâncias utilizando o modelo de Florestas Aleatórias;"
   ],
   "cell_type": "markdown",
   "metadata": {}
  },
  {
   "source": [
    "- A técnica de validação cruzada (cross-validation) **estratificada**, para avaliar poder de generalização do modelo e a variação de desempenho de acordo com diferentes valores para os parâmetros do algoritmo (ex., número de árvores no ensemble)."
   ],
   "cell_type": "markdown",
   "metadata": {}
  },
  {
   "source": [
    "- Avaliação do impacto do número de árvores no desempenho do ensemble."
   ],
   "cell_type": "markdown",
   "metadata": {}
  },
  {
   "source": [
    "## Entrega de Resultados\n",
    "\n",
    "- Código fonte\n",
    "    - Deve ser enviado com instruções de como rodar.\n",
    "\n",
    "- Relatório\n",
    "    - Descrição das características gerais da implementação\n",
    "    - Análise da corretude da implementação\n",
    "    - Análise de desempenho\n",
    "\n",
    "- Vídeo de apresentação\n",
    "    - Máximo 8 minutos\n",
    "    - Apresentação dos resultados\n",
    "    - Discussão e reflexão sobre dificuldades enfrentadas ao longo da implementação"
   ],
   "cell_type": "markdown",
   "metadata": {}
  }
 ]
}